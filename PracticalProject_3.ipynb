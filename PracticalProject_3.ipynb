{
 "cells": [
  {
   "cell_type": "markdown",
   "id": "0c57d294",
   "metadata": {},
   "source": [
    "# Bank Marketing\n",
    "\n",
    "\n",
    "The data is related with direct marketing campaigns of a Portuguese banking institution. The marketing campaigns were based on phone calls. Often, more than one contact to the same client was required, in order to access if the product (bank term deposit) would be ('yes') or not ('no') subscribed. \n",
    "\n",
    "The goal is to compare the performance of the classifiers (k-nearest neighbors, logistic regression, decision trees, and support vector machines) using this dataset.\n"
   ]
  },
  {
   "cell_type": "code",
   "execution_count": 121,
   "id": "b25f85ee",
   "metadata": {},
   "outputs": [],
   "source": [
    "import numpy as np\n",
    "import pandas as pd\n",
    "import seaborn as sns\n",
    "from sklearn.compose import ColumnTransformer\n",
    "from sklearn.model_selection import train_test_split, GridSearchCV, RandomizedSearchCV\n",
    "from sklearn.linear_model import LogisticRegression\n",
    "from sklearn.svm import SVC\n",
    "from sklearn.metrics import confusion_matrix\n",
    "import matplotlib.pyplot as plt\n",
    "from sklearn.metrics.pairwise import polynomial_kernel, rbf_kernel\n",
    "from sklearn.neighbors import KNeighborsClassifier\n",
    "from sklearn.preprocessing import OneHotEncoder, StandardScaler, PolynomialFeatures\n",
    "import seaborn as sns\n",
    "from sklearn.tree import DecisionTreeClassifier, export_text, plot_tree\n",
    "from sklearn.compose import make_column_selector, make_column_transformer\n",
    "from sklearn.pipeline import Pipeline\n",
    "\n",
    "\n",
    "\n",
    "from ucimlrepo import fetch_ucirepo "
   ]
  },
  {
   "cell_type": "markdown",
   "id": "8afdfaec",
   "metadata": {},
   "source": [
    "### Loading data"
   ]
  },
  {
   "cell_type": "code",
   "execution_count": 83,
   "id": "52b244e6",
   "metadata": {},
   "outputs": [],
   "source": [
    "# fetch dataset \n",
    "bank_marketing = fetch_ucirepo(id=222) \n",
    "\n",
    "# data (as pandas dataframes) \n",
    "X = bank_marketing.data.features \n",
    "y = bank_marketing.data.targets"
   ]
  },
  {
   "cell_type": "markdown",
   "id": "443e4449",
   "metadata": {},
   "source": [
    "### Data cleaning\n",
    "\n",
    "Checking if there is any null values in the dataset"
   ]
  },
  {
   "cell_type": "code",
   "execution_count": 84,
   "id": "b02b5dbd",
   "metadata": {},
   "outputs": [],
   "source": [
    "null_indices = X.isnull().any(axis=1)"
   ]
  },
  {
   "cell_type": "code",
   "execution_count": 85,
   "id": "4399c13a",
   "metadata": {},
   "outputs": [],
   "source": [
    "y = y[~null_indices]"
   ]
  },
  {
   "cell_type": "code",
   "execution_count": 86,
   "id": "fe786543",
   "metadata": {},
   "outputs": [],
   "source": [
    "X = X.dropna()"
   ]
  },
  {
   "cell_type": "code",
   "execution_count": 87,
   "id": "5a5fde4a",
   "metadata": {},
   "outputs": [
    {
     "data": {
      "text/plain": [
       "age            0\n",
       "job            0\n",
       "marital        0\n",
       "education      0\n",
       "default        0\n",
       "balance        0\n",
       "housing        0\n",
       "loan           0\n",
       "contact        0\n",
       "day_of_week    0\n",
       "month          0\n",
       "duration       0\n",
       "campaign       0\n",
       "pdays          0\n",
       "previous       0\n",
       "poutcome       0\n",
       "dtype: int64"
      ]
     },
     "execution_count": 87,
     "metadata": {},
     "output_type": "execute_result"
    }
   ],
   "source": [
    "X.isnull().sum()"
   ]
  },
  {
   "cell_type": "code",
   "execution_count": 88,
   "id": "f093c210",
   "metadata": {},
   "outputs": [
    {
     "data": {
      "text/plain": [
       "y    0\n",
       "dtype: int64"
      ]
     },
     "execution_count": 88,
     "metadata": {},
     "output_type": "execute_result"
    }
   ],
   "source": [
    "y.isnull().sum()"
   ]
  },
  {
   "cell_type": "code",
   "execution_count": 89,
   "id": "63a2eb89",
   "metadata": {},
   "outputs": [
    {
     "name": "stderr",
     "output_type": "stream",
     "text": [
      "C:\\Users\\m_kha\\AppData\\Local\\Temp\\ipykernel_19912\\2485778615.py:1: FutureWarning: The default value of regex will change from True to False in a future version.\n",
      "  X['job'] = X['job'] .str.replace('admin.', 'admin')\n",
      "C:\\Users\\m_kha\\AppData\\Local\\Temp\\ipykernel_19912\\2485778615.py:1: SettingWithCopyWarning: \n",
      "A value is trying to be set on a copy of a slice from a DataFrame.\n",
      "Try using .loc[row_indexer,col_indexer] = value instead\n",
      "\n",
      "See the caveats in the documentation: https://pandas.pydata.org/pandas-docs/stable/user_guide/indexing.html#returning-a-view-versus-a-copy\n",
      "  X['job'] = X['job'] .str.replace('admin.', 'admin')\n",
      "C:\\Users\\m_kha\\AppData\\Local\\Temp\\ipykernel_19912\\2485778615.py:2: SettingWithCopyWarning: \n",
      "A value is trying to be set on a copy of a slice from a DataFrame.\n",
      "Try using .loc[row_indexer,col_indexer] = value instead\n",
      "\n",
      "See the caveats in the documentation: https://pandas.pydata.org/pandas-docs/stable/user_guide/indexing.html#returning-a-view-versus-a-copy\n",
      "  X['job'] = X['job'] .str.replace('self-employed', 'selfEmployed')\n",
      "C:\\Users\\m_kha\\AppData\\Local\\Temp\\ipykernel_19912\\2485778615.py:3: SettingWithCopyWarning: \n",
      "A value is trying to be set on a copy of a slice from a DataFrame.\n",
      "Try using .loc[row_indexer,col_indexer] = value instead\n",
      "\n",
      "See the caveats in the documentation: https://pandas.pydata.org/pandas-docs/stable/user_guide/indexing.html#returning-a-view-versus-a-copy\n",
      "  X['job'] = X['job'] .str.replace('blue-collar', 'blueCollar')\n"
     ]
    }
   ],
   "source": [
    "X['job'] = X['job'] .str.replace('admin.', 'admin')\n",
    "X['job'] = X['job'] .str.replace('self-employed', 'selfEmployed')\n",
    "X['job'] = X['job'] .str.replace('blue-collar', 'blueCollar')"
   ]
  },
  {
   "cell_type": "markdown",
   "id": "0e7755d6",
   "metadata": {},
   "source": [
    "### Splitting data into training and validation sets"
   ]
  },
  {
   "cell_type": "code",
   "execution_count": 90,
   "id": "e19ee33b",
   "metadata": {},
   "outputs": [],
   "source": [
    "X_train, X_test, y_train, y_test = train_test_split(X, y, random_state = 42)"
   ]
  },
  {
   "cell_type": "code",
   "execution_count": 91,
   "id": "30d0dd40",
   "metadata": {},
   "outputs": [
    {
     "name": "stdout",
     "output_type": "stream",
     "text": [
      "<class 'pandas.core.frame.DataFrame'>\n",
      "Int64Index: 7842 entries, 24060 to 45210\n",
      "Data columns (total 16 columns):\n",
      " #   Column       Non-Null Count  Dtype \n",
      "---  ------       --------------  ----- \n",
      " 0   age          7842 non-null   int64 \n",
      " 1   job          7842 non-null   object\n",
      " 2   marital      7842 non-null   object\n",
      " 3   education    7842 non-null   object\n",
      " 4   default      7842 non-null   object\n",
      " 5   balance      7842 non-null   int64 \n",
      " 6   housing      7842 non-null   object\n",
      " 7   loan         7842 non-null   object\n",
      " 8   contact      7842 non-null   object\n",
      " 9   day_of_week  7842 non-null   int64 \n",
      " 10  month        7842 non-null   object\n",
      " 11  duration     7842 non-null   int64 \n",
      " 12  campaign     7842 non-null   int64 \n",
      " 13  pdays        7842 non-null   int64 \n",
      " 14  previous     7842 non-null   int64 \n",
      " 15  poutcome     7842 non-null   object\n",
      "dtypes: int64(7), object(9)\n",
      "memory usage: 1.0+ MB\n"
     ]
    }
   ],
   "source": [
    "X.info()"
   ]
  },
  {
   "cell_type": "code",
   "execution_count": 92,
   "id": "69fb4d6f",
   "metadata": {},
   "outputs": [
    {
     "data": {
      "text/html": [
       "<div>\n",
       "<style scoped>\n",
       "    .dataframe tbody tr th:only-of-type {\n",
       "        vertical-align: middle;\n",
       "    }\n",
       "\n",
       "    .dataframe tbody tr th {\n",
       "        vertical-align: top;\n",
       "    }\n",
       "\n",
       "    .dataframe thead th {\n",
       "        text-align: right;\n",
       "    }\n",
       "</style>\n",
       "<table border=\"1\" class=\"dataframe\">\n",
       "  <thead>\n",
       "    <tr style=\"text-align: right;\">\n",
       "      <th></th>\n",
       "      <th>age</th>\n",
       "      <th>job</th>\n",
       "      <th>marital</th>\n",
       "      <th>education</th>\n",
       "      <th>default</th>\n",
       "      <th>balance</th>\n",
       "      <th>housing</th>\n",
       "      <th>loan</th>\n",
       "      <th>contact</th>\n",
       "      <th>day_of_week</th>\n",
       "      <th>month</th>\n",
       "      <th>duration</th>\n",
       "      <th>campaign</th>\n",
       "      <th>pdays</th>\n",
       "      <th>previous</th>\n",
       "      <th>poutcome</th>\n",
       "    </tr>\n",
       "  </thead>\n",
       "  <tbody>\n",
       "    <tr>\n",
       "      <th>24060</th>\n",
       "      <td>33</td>\n",
       "      <td>admin</td>\n",
       "      <td>married</td>\n",
       "      <td>tertiary</td>\n",
       "      <td>no</td>\n",
       "      <td>882</td>\n",
       "      <td>no</td>\n",
       "      <td>no</td>\n",
       "      <td>telephone</td>\n",
       "      <td>21</td>\n",
       "      <td>oct</td>\n",
       "      <td>39</td>\n",
       "      <td>1</td>\n",
       "      <td>151</td>\n",
       "      <td>3</td>\n",
       "      <td>failure</td>\n",
       "    </tr>\n",
       "    <tr>\n",
       "      <th>24062</th>\n",
       "      <td>42</td>\n",
       "      <td>admin</td>\n",
       "      <td>single</td>\n",
       "      <td>secondary</td>\n",
       "      <td>no</td>\n",
       "      <td>-247</td>\n",
       "      <td>yes</td>\n",
       "      <td>yes</td>\n",
       "      <td>telephone</td>\n",
       "      <td>21</td>\n",
       "      <td>oct</td>\n",
       "      <td>519</td>\n",
       "      <td>1</td>\n",
       "      <td>166</td>\n",
       "      <td>1</td>\n",
       "      <td>other</td>\n",
       "    </tr>\n",
       "    <tr>\n",
       "      <th>24064</th>\n",
       "      <td>33</td>\n",
       "      <td>services</td>\n",
       "      <td>married</td>\n",
       "      <td>secondary</td>\n",
       "      <td>no</td>\n",
       "      <td>3444</td>\n",
       "      <td>yes</td>\n",
       "      <td>no</td>\n",
       "      <td>telephone</td>\n",
       "      <td>21</td>\n",
       "      <td>oct</td>\n",
       "      <td>144</td>\n",
       "      <td>1</td>\n",
       "      <td>91</td>\n",
       "      <td>4</td>\n",
       "      <td>failure</td>\n",
       "    </tr>\n",
       "    <tr>\n",
       "      <th>24072</th>\n",
       "      <td>36</td>\n",
       "      <td>management</td>\n",
       "      <td>married</td>\n",
       "      <td>tertiary</td>\n",
       "      <td>no</td>\n",
       "      <td>2415</td>\n",
       "      <td>yes</td>\n",
       "      <td>no</td>\n",
       "      <td>telephone</td>\n",
       "      <td>22</td>\n",
       "      <td>oct</td>\n",
       "      <td>73</td>\n",
       "      <td>1</td>\n",
       "      <td>86</td>\n",
       "      <td>4</td>\n",
       "      <td>other</td>\n",
       "    </tr>\n",
       "    <tr>\n",
       "      <th>24077</th>\n",
       "      <td>36</td>\n",
       "      <td>management</td>\n",
       "      <td>married</td>\n",
       "      <td>tertiary</td>\n",
       "      <td>no</td>\n",
       "      <td>0</td>\n",
       "      <td>yes</td>\n",
       "      <td>no</td>\n",
       "      <td>telephone</td>\n",
       "      <td>23</td>\n",
       "      <td>oct</td>\n",
       "      <td>140</td>\n",
       "      <td>1</td>\n",
       "      <td>143</td>\n",
       "      <td>3</td>\n",
       "      <td>failure</td>\n",
       "    </tr>\n",
       "  </tbody>\n",
       "</table>\n",
       "</div>"
      ],
      "text/plain": [
       "       age         job  marital  education default  balance housing loan  \\\n",
       "24060   33       admin  married   tertiary      no      882      no   no   \n",
       "24062   42       admin   single  secondary      no     -247     yes  yes   \n",
       "24064   33    services  married  secondary      no     3444     yes   no   \n",
       "24072   36  management  married   tertiary      no     2415     yes   no   \n",
       "24077   36  management  married   tertiary      no        0     yes   no   \n",
       "\n",
       "         contact  day_of_week month  duration  campaign  pdays  previous  \\\n",
       "24060  telephone           21   oct        39         1    151         3   \n",
       "24062  telephone           21   oct       519         1    166         1   \n",
       "24064  telephone           21   oct       144         1     91         4   \n",
       "24072  telephone           22   oct        73         1     86         4   \n",
       "24077  telephone           23   oct       140         1    143         3   \n",
       "\n",
       "      poutcome  \n",
       "24060  failure  \n",
       "24062    other  \n",
       "24064  failure  \n",
       "24072    other  \n",
       "24077  failure  "
      ]
     },
     "execution_count": 92,
     "metadata": {},
     "output_type": "execute_result"
    }
   ],
   "source": [
    "X.head()"
   ]
  },
  {
   "cell_type": "code",
   "execution_count": 120,
   "id": "5de0c95d",
   "metadata": {},
   "outputs": [
    {
     "data": {
      "text/plain": [
       "object"
      ]
     },
     "execution_count": 120,
     "metadata": {},
     "output_type": "execute_result"
    }
   ],
   "source": []
  },
  {
   "cell_type": "markdown",
   "id": "57b4779e",
   "metadata": {},
   "source": [
    "### Data transformation:\n",
    "\n",
    "Create separate transformers for numeric and categorical features. For numeric, we scale the data. For categorical, we apply OneHot encoding\n"
   ]
  },
  {
   "cell_type": "code",
   "execution_count": 94,
   "id": "d0615866",
   "metadata": {},
   "outputs": [],
   "source": [
    "# Create separate transformers for numeric and categorical features\n",
    "numeric_features = make_column_selector(dtype_include=int) # List of numeric feature column names\n",
    "categorical_features = make_column_selector(dtype_include=object) # List of categorical feature column names\n",
    "\n",
    "transformer = make_column_transformer((OneHotEncoder(drop = 'first'), categorical_features),\n",
    "                                     remainder = StandardScaler())"
   ]
  },
  {
   "cell_type": "markdown",
   "id": "0967d4d8",
   "metadata": {},
   "source": [
    "### Data Modeling and Evaluation\n",
    "\n",
    "We considered 4 models:\n",
    "- Knearest Neighbor\n",
    "- Decision Tree\n",
    "- Logistic Regression \n",
    "- SVM\n",
    "\n",
    "We used accuaracy for training and test sets as evaluation metrics\n"
   ]
  },
  {
   "cell_type": "code",
   "execution_count": 166,
   "id": "35b669e8",
   "metadata": {},
   "outputs": [
    {
     "name": "stdout",
     "output_type": "stream",
     "text": [
      "CPU times: total: 0 ns\n",
      "Wall time: 0 ns\n",
      "0.8456044890324774 0.8322284548699643\n"
     ]
    },
    {
     "name": "stderr",
     "output_type": "stream",
     "text": [
      "C:\\Users\\m_kha\\anaconda3\\lib\\site-packages\\sklearn\\utils\\validation.py:1184: DataConversionWarning: A column-vector y was passed when a 1d array was expected. Please change the shape of y to (n_samples, ), for example using ravel().\n",
      "  y = column_or_1d(y, warn=True)\n"
     ]
    }
   ],
   "source": [
    "## Modol #1: Logistic Regression \n",
    "\n",
    "%time\n",
    "logistic_pipe = Pipeline([('transformer', transformer),\n",
    "                    ('lgr', LogisticRegression(random_state=42, max_iter = 1000))])\n",
    "\n",
    "logistic_pipe.fit(X_train, y_train)\n",
    "\n",
    "logistic_pipe_train_acc = logistic_pipe.score(X_train, y_train)\n",
    "logistic_pipe_test_acc = logistic_pipe.score(X_test, y_test)\n",
    "\n",
    "print (logistic_pipe_train_acc, logistic_pipe_test_acc)"
   ]
  },
  {
   "cell_type": "code",
   "execution_count": 142,
   "id": "6c87a807",
   "metadata": {},
   "outputs": [
    {
     "name": "stdout",
     "output_type": "stream",
     "text": [
      "CPU times: total: 0 ns\n",
      "Wall time: 0 ns\n",
      "90% 80%\n"
     ]
    },
    {
     "name": "stderr",
     "output_type": "stream",
     "text": [
      "C:\\Users\\m_kha\\anaconda3\\lib\\site-packages\\sklearn\\neighbors\\_classification.py:228: DataConversionWarning: A column-vector y was passed when a 1d array was expected. Please change the shape of y to (n_samples,), for example using ravel().\n",
      "  return self._fit(X, y)\n"
     ]
    }
   ],
   "source": [
    "## Modol #2:  K-nearest Neighbor\n",
    "\n",
    "%time\n",
    "knn_pipe = Pipeline([('transformer', transformer),\n",
    "                    ('knn', KNeighborsClassifier(n_neighbors=3))])\n",
    "\n",
    "knn_pipe.fit(X_train, y_train)\n",
    "\n",
    "knn_pipe_train_acc = knn_pipe.score(X_train, y_train)\n",
    "knn_pipe_test_acc = knn_pipe.score(X_test, y_test)\n",
    "\n",
    "print (knn_pipe_train_acc, knn_pipe_test_acc)"
   ]
  },
  {
   "cell_type": "code",
   "execution_count": 167,
   "id": "de190706",
   "metadata": {},
   "outputs": [
    {
     "name": "stdout",
     "output_type": "stream",
     "text": [
      "CPU times: total: 0 ns\n",
      "Wall time: 0 ns\n",
      "1.0 0.8067312595614482\n"
     ]
    }
   ],
   "source": [
    "## Modol #3:  Decision Tree\n",
    "\n",
    "\n",
    "%time\n",
    "tree_pipe = Pipeline([('transformer', transformer),\n",
    "                    ('tree', DecisionTreeClassifier(random_state = 42))])\n",
    "\n",
    "tree_pipe.fit(X_train, y_train)\n",
    "\n",
    "tree_pipe_train_acc = tree_pipe.score(X_train, y_train)\n",
    "tree_pipe_test_acc = tree_pipe.score(X_test, y_test)\n",
    "\n",
    "print (tree_pipe_train_acc, tree_pipe_test_acc)"
   ]
  },
  {
   "cell_type": "code",
   "execution_count": 168,
   "id": "199a021a",
   "metadata": {},
   "outputs": [
    {
     "name": "stdout",
     "output_type": "stream",
     "text": [
      "CPU times: total: 0 ns\n",
      "Wall time: 0 ns\n"
     ]
    },
    {
     "name": "stderr",
     "output_type": "stream",
     "text": [
      "C:\\Users\\m_kha\\anaconda3\\lib\\site-packages\\sklearn\\utils\\validation.py:1184: DataConversionWarning: A column-vector y was passed when a 1d array was expected. Please change the shape of y to (n_samples, ), for example using ravel().\n",
      "  y = column_or_1d(y, warn=True)\n"
     ]
    },
    {
     "name": "stdout",
     "output_type": "stream",
     "text": [
      "0.8853936405373236 0.8403875573686894\n"
     ]
    }
   ],
   "source": [
    "## Modol #4:  SVM\n",
    "\n",
    "%time\n",
    "svc_pipe = Pipeline([('transformer', transformer),\n",
    "                    ('svc', SVC())])\n",
    "\n",
    "svc_pipe.fit(X_train, y_train)\n",
    "\n",
    "svc_pipe_train_acc = svc_pipe.score(X_train, y_train)\n",
    "svc_pipe_test_acc = svc_pipe.score(X_test, y_test)\n",
    "\n",
    "print (svc_pipe_train_acc, svc_pipe_test_acc)"
   ]
  },
  {
   "cell_type": "code",
   "execution_count": 169,
   "id": "39f26ba8",
   "metadata": {},
   "outputs": [],
   "source": [
    "res_dict = {'model': ['KNN', 'Logistic Regression','Tree', 'SVC'],\n",
    "           'train_score': [knn_pipe_train_acc, logistic_pipe_train_acc, tree_pipe_train_acc,svc_pipe_train_acc ],\n",
    "           'test_score': [knn_pipe_test_acc, logistic_pipe_test_acc,tree_pipe_test_acc,svc_pipe_test_acc]}\n",
    "df = pd.DataFrame(res_dict)#.set_index('model')"
   ]
  },
  {
   "cell_type": "code",
   "execution_count": 170,
   "id": "ad50c0ee",
   "metadata": {},
   "outputs": [
    {
     "data": {
      "text/html": [
       "<div>\n",
       "<style scoped>\n",
       "    .dataframe tbody tr th:only-of-type {\n",
       "        vertical-align: middle;\n",
       "    }\n",
       "\n",
       "    .dataframe tbody tr th {\n",
       "        vertical-align: top;\n",
       "    }\n",
       "\n",
       "    .dataframe thead th {\n",
       "        text-align: right;\n",
       "    }\n",
       "</style>\n",
       "<table border=\"1\" class=\"dataframe\">\n",
       "  <thead>\n",
       "    <tr style=\"text-align: right;\">\n",
       "      <th></th>\n",
       "      <th>model</th>\n",
       "      <th>train_score</th>\n",
       "      <th>test_score</th>\n",
       "    </tr>\n",
       "  </thead>\n",
       "  <tbody>\n",
       "    <tr>\n",
       "      <th>0</th>\n",
       "      <td>KNN</td>\n",
       "      <td>90%</td>\n",
       "      <td>80%</td>\n",
       "    </tr>\n",
       "    <tr>\n",
       "      <th>1</th>\n",
       "      <td>Logistic Regression</td>\n",
       "      <td>0.845604</td>\n",
       "      <td>0.832228</td>\n",
       "    </tr>\n",
       "    <tr>\n",
       "      <th>2</th>\n",
       "      <td>Tree</td>\n",
       "      <td>1.0</td>\n",
       "      <td>0.806731</td>\n",
       "    </tr>\n",
       "    <tr>\n",
       "      <th>3</th>\n",
       "      <td>SVC</td>\n",
       "      <td>0.885394</td>\n",
       "      <td>0.840388</td>\n",
       "    </tr>\n",
       "  </tbody>\n",
       "</table>\n",
       "</div>"
      ],
      "text/plain": [
       "                 model train_score test_score\n",
       "0                  KNN         90%        80%\n",
       "1  Logistic Regression    0.845604   0.832228\n",
       "2                 Tree         1.0   0.806731\n",
       "3                  SVC    0.885394   0.840388"
      ]
     },
     "execution_count": 170,
     "metadata": {},
     "output_type": "execute_result"
    }
   ],
   "source": [
    "df"
   ]
  },
  {
   "cell_type": "code",
   "execution_count": 175,
   "id": "41862e8e",
   "metadata": {},
   "outputs": [
    {
     "data": {
      "image/png": "[encoded data removed]",
      "text/plain": [
       "<Figure size 1000x600 with 1 Axes>"
      ]
     },
     "metadata": {},
     "output_type": "display_data"
    }
   ],
   "source": [
    "# Set the style of the plot\n",
    "sns.set(style=\"whitegrid\")\n",
    "\n",
    "# Melt the DataFrame to combine training and test scores into a single column\n",
    "df_melted = df.melt(id_vars='model', var_name='score_type', value_name='score')\n",
    "\n",
    "# Create a bar plot\n",
    "plt.figure(figsize=(10, 6)\n",
    ")\n",
    "ax = sns.barplot(x='model', y='score', hue='score_type', data=df_melted)\n",
    "plt.title('Training and Test Scores for Different Models')\n",
    "plt.xlabel('Model')\n",
    "plt.ylabel('Score')\n",
    "plt.ylim(0, 110)  # Set the y-axis limit\n",
    "plt.xticks(rotation=30, ha='right')\n",
    "\n",
    "# Customize the legend\n",
    "handles, labels = ax.get_legend_handles_labels()\n",
    "ax.legend(handles=handles, labels=['Training Score', 'Test Score'], title='Score Type')\n",
    "\n",
    "# Show the combined plot\n",
    "plt.show()"
   ]
  },
  {
   "cell_type": "markdown",
   "id": "62c5bbc9",
   "metadata": {},
   "source": [
    "## Conclusion:\n",
    "\n",
    "Based on accuracy on the validation set, SVC model outperformed all other models."
   ]
  },
  {
   "cell_type": "code",
   "execution_count": null,
   "id": "243b0eec",
   "metadata": {},
   "outputs": [],
   "source": []
  }
 ],
 "metadata": {
  "kernelspec": {
   "display_name": "Python 3 (ipykernel)",
   "language": "python",
   "name": "python3"
  },
  "language_info": {
   "codemirror_mode": {
    "name": "ipython",
    "version": 3
   },
   "file_extension": ".py",
   "mimetype": "text/x-python",
   "name": "python",
   "nbconvert_exporter": "python",
   "pygments_lexer": "ipython3",
   "version": "3.10.9"
  }
 },
 "nbformat": 4,
 "nbformat_minor": 5
}
